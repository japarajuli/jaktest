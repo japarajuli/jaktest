{
 "cells": [
  {
   "cell_type": "code",
   "execution_count": null,
   "id": "7f89f6a2",
   "metadata": {},
   "outputs": [],
   "source": [
    "hello "
   ]
  }
 ],
 "metadata": {
  "kernelspec": {
   "display_name": "Python 3",
   "language": "python",
   "name": "python3"
  },
  "language_info": {
   "codemirror_mode": {
    "name": "ipython",
    "version": 3
   },
   "file_extension": ".py",
   "mimetype": "text/x-python",
   "name": "python",
   "nbconvert_exporter": "python",
   "pygments_lexer": "ipython3",
   "version": "3.7.3"
  },
  "vscode": {
   "interpreter": {
    "hash": "56c784331582ace9fdccaea190258ee79949cd6371e3b0438e07b887ac6038cb"
   }
  }
 },
 "nbformat": 4,
 "nbformat_minor": 5
}
